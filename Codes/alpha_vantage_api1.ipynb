{
 "cells": [
  {
   "cell_type": "code",
   "execution_count": 1,
   "metadata": {},
   "outputs": [],
   "source": [
    "# Dependencies and Setup\n",
    "import matplotlib.pyplot as plt\n",
    "import pandas as pd\n",
    "import numpy as np\n",
    "import requests\n",
    "import time\n",
    "import json"
   ]
  },
  {
   "cell_type": "code",
   "execution_count": 2,
   "metadata": {},
   "outputs": [],
   "source": [
    "#  create and initialize list \n",
    "stock_symbol = []\n",
    "stock_daily_details = []\n",
    "tickers = [\"AMZ\",\"MSFT\",\"GOOG\",\"TCS\",\"CTSH\"]\n",
    "# List of stock data\n",
    "stock_data = []\n",
    "api_key = \"\"\n",
    "\n",
    "for ticker in tickers:\n",
    "    try:\n",
    "#         url1 = \"https://www.alphavantage.co/query?function=TIME_SERIES_DAILY_ADJUSTED&symbol=\"+ ticker + \"&apikey=\"+ api_key + \"&datatype=csv\"\n",
    "        url = \"https://www.alphavantage.co/query?function=TIME_SERIES_DAILY_ADJUSTED&symbol=\" + ticker + \"&outputsize=\" + ticker + \"&apikey=\" + api_key\n",
    "\n",
    "        stock_details = requests.get(url).json()\n",
    "        stock_symbol = stock_details[\"Meta Data\"][\"2. Symbol\"]\n",
    "        stock_daily_details = stock_details[\"Time Series (Daily)\"]\n",
    "#         print(stock_daily_details)\n",
    "\n",
    "        \n",
    "        with open(f'Data/output_api_{ticker}.json', 'w') as outfile:\n",
    "            json.dump(stock_daily_details, outfile)\n",
    "        \n",
    "        # Parse out the datas\n",
    "#         stock_date = stock_details[\"Time Series (Daily)\"]\n",
    "#          Append the City information into city_data list\n",
    "#         stock_data.append({\"stock_symbol\": stock_symbol, \n",
    "#                           \"stock_daily_details\": stock_daily_details \n",
    "#                           })\n",
    "        \n",
    "\n",
    "    # If an error is experienced, skip the ticker\n",
    "    except:\n",
    "        print(\"ticker not found. Skipping...\")\n",
    "        pass\n",
    "              \n",
    "\n",
    "        \n"
   ]
  },
  {
   "cell_type": "code",
   "execution_count": null,
   "metadata": {},
   "outputs": [],
   "source": []
  }
 ],
 "metadata": {
  "kernelspec": {
   "display_name": "Python 3",
   "language": "python",
   "name": "python3"
  },
  "language_info": {
   "codemirror_mode": {
    "name": "ipython",
    "version": 3
   },
   "file_extension": ".py",
   "mimetype": "text/x-python",
   "name": "python",
   "nbconvert_exporter": "python",
   "pygments_lexer": "ipython3",
   "version": "3.7.1"
  }
 },
 "nbformat": 4,
 "nbformat_minor": 2
}
